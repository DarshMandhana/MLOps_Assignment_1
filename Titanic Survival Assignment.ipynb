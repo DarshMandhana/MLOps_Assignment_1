{
 "cells": [
  {
   "cell_type": "markdown",
   "id": "2eca19ec",
   "metadata": {},
   "source": [
    "Predicting Survival on the Titanic\n",
    "History\n",
    "Perhaps one of the most infamous shipwrecks in history, the Titanic sank after colliding with an iceberg, killing 1502 out of 2224 people on board. Interestingly, by analysing the probability of survival based on few attributes like gender, age, and social status, we can make very accurate predictions on which passengers would survive. Some groups of people were more likely to survive than others, such as women, children, and the upper-class. Therefore, we can learn about the society priorities and privileges at the time.\n",
    "\n",
    "Assignment:\n",
    "Build a Machine Learning Pipeline, to engineer the features in the data set and predict who is more likely to Survive the catastrophe.\n",
    "\n",
    "Follow the Jupyter notebook below, and complete the missing bits of code, to achieve each one of the pipeline steps.\n"
   ]
  },
  {
   "cell_type": "code",
   "execution_count": 81,
   "id": "a6665f63",
   "metadata": {},
   "outputs": [],
   "source": [
    "import re\n",
    "\n",
    "# to handle datasets\n",
    "import pandas as pd\n",
    "import numpy as np\n",
    "\n",
    "# for visualization\n",
    "import matplotlib.pyplot as plt\n",
    "\n",
    "# to divide train and test set\n",
    "from sklearn.model_selection import train_test_split\n",
    "\n",
    "# feature scaling\n",
    "from sklearn.preprocessing import StandardScaler\n",
    "from sklearn.compose import ColumnTransformer\n",
    "\n",
    "# to build the models\n",
    "from sklearn.linear_model import LogisticRegression\n",
    "\n",
    "# to evaluate the models\n",
    "from sklearn.metrics import accuracy_score, roc_auc_score\n",
    "\n",
    "# to persist the model and the scaler\n",
    "import joblib\n"
   ]
  },
  {
   "cell_type": "code",
   "execution_count": 3,
   "id": "cc74d031",
   "metadata": {},
   "outputs": [],
   "source": [
    "# to visualise al the columns in the dataframe\n",
    "pd.pandas.set_option('display.max_columns', None)\n",
    "#Prepare the data set\n",
    "# load the data - it is available open source and online\n",
    "\n",
    "data = pd.read_csv('https://www.openml.org/data/get_csv/16826755/phpMYEkMl')"
   ]
  },
  {
   "cell_type": "code",
   "execution_count": 4,
   "id": "dee19684",
   "metadata": {},
   "outputs": [
    {
     "data": {
      "text/html": [
       "<div>\n",
       "<style scoped>\n",
       "    .dataframe tbody tr th:only-of-type {\n",
       "        vertical-align: middle;\n",
       "    }\n",
       "\n",
       "    .dataframe tbody tr th {\n",
       "        vertical-align: top;\n",
       "    }\n",
       "\n",
       "    .dataframe thead th {\n",
       "        text-align: right;\n",
       "    }\n",
       "</style>\n",
       "<table border=\"1\" class=\"dataframe\">\n",
       "  <thead>\n",
       "    <tr style=\"text-align: right;\">\n",
       "      <th></th>\n",
       "      <th>pclass</th>\n",
       "      <th>survived</th>\n",
       "      <th>name</th>\n",
       "      <th>sex</th>\n",
       "      <th>age</th>\n",
       "      <th>sibsp</th>\n",
       "      <th>parch</th>\n",
       "      <th>ticket</th>\n",
       "      <th>fare</th>\n",
       "      <th>cabin</th>\n",
       "      <th>embarked</th>\n",
       "      <th>boat</th>\n",
       "      <th>body</th>\n",
       "      <th>home.dest</th>\n",
       "    </tr>\n",
       "  </thead>\n",
       "  <tbody>\n",
       "    <tr>\n",
       "      <th>0</th>\n",
       "      <td>1</td>\n",
       "      <td>1</td>\n",
       "      <td>Allen, Miss. Elisabeth Walton</td>\n",
       "      <td>female</td>\n",
       "      <td>29</td>\n",
       "      <td>0</td>\n",
       "      <td>0</td>\n",
       "      <td>24160</td>\n",
       "      <td>211.3375</td>\n",
       "      <td>B5</td>\n",
       "      <td>S</td>\n",
       "      <td>2</td>\n",
       "      <td>?</td>\n",
       "      <td>St Louis, MO</td>\n",
       "    </tr>\n",
       "    <tr>\n",
       "      <th>1</th>\n",
       "      <td>1</td>\n",
       "      <td>1</td>\n",
       "      <td>Allison, Master. Hudson Trevor</td>\n",
       "      <td>male</td>\n",
       "      <td>0.9167</td>\n",
       "      <td>1</td>\n",
       "      <td>2</td>\n",
       "      <td>113781</td>\n",
       "      <td>151.55</td>\n",
       "      <td>C22 C26</td>\n",
       "      <td>S</td>\n",
       "      <td>11</td>\n",
       "      <td>?</td>\n",
       "      <td>Montreal, PQ / Chesterville, ON</td>\n",
       "    </tr>\n",
       "    <tr>\n",
       "      <th>2</th>\n",
       "      <td>1</td>\n",
       "      <td>0</td>\n",
       "      <td>Allison, Miss. Helen Loraine</td>\n",
       "      <td>female</td>\n",
       "      <td>2</td>\n",
       "      <td>1</td>\n",
       "      <td>2</td>\n",
       "      <td>113781</td>\n",
       "      <td>151.55</td>\n",
       "      <td>C22 C26</td>\n",
       "      <td>S</td>\n",
       "      <td>?</td>\n",
       "      <td>?</td>\n",
       "      <td>Montreal, PQ / Chesterville, ON</td>\n",
       "    </tr>\n",
       "    <tr>\n",
       "      <th>3</th>\n",
       "      <td>1</td>\n",
       "      <td>0</td>\n",
       "      <td>Allison, Mr. Hudson Joshua Creighton</td>\n",
       "      <td>male</td>\n",
       "      <td>30</td>\n",
       "      <td>1</td>\n",
       "      <td>2</td>\n",
       "      <td>113781</td>\n",
       "      <td>151.55</td>\n",
       "      <td>C22 C26</td>\n",
       "      <td>S</td>\n",
       "      <td>?</td>\n",
       "      <td>135</td>\n",
       "      <td>Montreal, PQ / Chesterville, ON</td>\n",
       "    </tr>\n",
       "    <tr>\n",
       "      <th>4</th>\n",
       "      <td>1</td>\n",
       "      <td>0</td>\n",
       "      <td>Allison, Mrs. Hudson J C (Bessie Waldo Daniels)</td>\n",
       "      <td>female</td>\n",
       "      <td>25</td>\n",
       "      <td>1</td>\n",
       "      <td>2</td>\n",
       "      <td>113781</td>\n",
       "      <td>151.55</td>\n",
       "      <td>C22 C26</td>\n",
       "      <td>S</td>\n",
       "      <td>?</td>\n",
       "      <td>?</td>\n",
       "      <td>Montreal, PQ / Chesterville, ON</td>\n",
       "    </tr>\n",
       "  </tbody>\n",
       "</table>\n",
       "</div>"
      ],
      "text/plain": [
       "   pclass  survived                                             name     sex  \\\n",
       "0       1         1                    Allen, Miss. Elisabeth Walton  female   \n",
       "1       1         1                   Allison, Master. Hudson Trevor    male   \n",
       "2       1         0                     Allison, Miss. Helen Loraine  female   \n",
       "3       1         0             Allison, Mr. Hudson Joshua Creighton    male   \n",
       "4       1         0  Allison, Mrs. Hudson J C (Bessie Waldo Daniels)  female   \n",
       "\n",
       "      age  sibsp  parch  ticket      fare    cabin embarked boat body  \\\n",
       "0      29      0      0   24160  211.3375       B5        S    2    ?   \n",
       "1  0.9167      1      2  113781    151.55  C22 C26        S   11    ?   \n",
       "2       2      1      2  113781    151.55  C22 C26        S    ?    ?   \n",
       "3      30      1      2  113781    151.55  C22 C26        S    ?  135   \n",
       "4      25      1      2  113781    151.55  C22 C26        S    ?    ?   \n",
       "\n",
       "                         home.dest  \n",
       "0                     St Louis, MO  \n",
       "1  Montreal, PQ / Chesterville, ON  \n",
       "2  Montreal, PQ / Chesterville, ON  \n",
       "3  Montreal, PQ / Chesterville, ON  \n",
       "4  Montreal, PQ / Chesterville, ON  "
      ]
     },
     "execution_count": 4,
     "metadata": {},
     "output_type": "execute_result"
    }
   ],
   "source": [
    "# display data\n",
    "data.head()"
   ]
  },
  {
   "cell_type": "code",
   "execution_count": 5,
   "id": "85acc8dc",
   "metadata": {},
   "outputs": [],
   "source": [
    "# replace interrogation marks by NaN values\n",
    "\n",
    "data = data.replace('?', np.nan)\n",
    "# retain only the first cabin if more than\n",
    "# 1 are available per passenger"
   ]
  },
  {
   "cell_type": "code",
   "execution_count": 6,
   "id": "5144142c",
   "metadata": {},
   "outputs": [],
   "source": [
    "def get_first_cabin(row):\n",
    "    try:\n",
    "        return row.split()[0]\n",
    "    except:\n",
    "        return np.nan\n",
    "    \n",
    "data['cabin'] = data['cabin'].apply(get_first_cabin)\n",
    "# extracts the title (Mr, Ms, etc) from the name variable\n"
   ]
  },
  {
   "cell_type": "code",
   "execution_count": 8,
   "id": "4816abf9",
   "metadata": {},
   "outputs": [],
   "source": [
    "\n",
    "def get_title(passenger):\n",
    "    line = passenger\n",
    "    if re.search('Mrs', line):\n",
    "        return 'Mrs'\n",
    "    elif re.search('Mr', line):\n",
    "        return 'Mr'\n",
    "    elif re.search('Miss', line):\n",
    "        return 'Miss'\n",
    "    elif re.search('Master', line):\n",
    "        return 'Master'\n",
    "    else:\n",
    "        return 'Other'"
   ]
  },
  {
   "cell_type": "code",
   "execution_count": 9,
   "id": "a1c5d658",
   "metadata": {
    "scrolled": true
   },
   "outputs": [],
   "source": [
    "   \n",
    "data['title'] = data['name'].apply(get_title)\n",
    "# cast numerical variables as floats\n",
    "\n",
    "data['fare'] = data['fare'].astype('float')\n",
    "data['age'] = data['age'].astype('float')\n",
    "# drop unnecessary variables\n",
    "\n",
    "data.drop(labels=['name','ticket', 'boat', 'body','home.dest'], axis=1, inplace=True)"
   ]
  },
  {
   "cell_type": "code",
   "execution_count": 10,
   "id": "ef595165",
   "metadata": {},
   "outputs": [
    {
     "data": {
      "text/html": [
       "<div>\n",
       "<style scoped>\n",
       "    .dataframe tbody tr th:only-of-type {\n",
       "        vertical-align: middle;\n",
       "    }\n",
       "\n",
       "    .dataframe tbody tr th {\n",
       "        vertical-align: top;\n",
       "    }\n",
       "\n",
       "    .dataframe thead th {\n",
       "        text-align: right;\n",
       "    }\n",
       "</style>\n",
       "<table border=\"1\" class=\"dataframe\">\n",
       "  <thead>\n",
       "    <tr style=\"text-align: right;\">\n",
       "      <th></th>\n",
       "      <th>pclass</th>\n",
       "      <th>survived</th>\n",
       "      <th>sex</th>\n",
       "      <th>age</th>\n",
       "      <th>sibsp</th>\n",
       "      <th>parch</th>\n",
       "      <th>fare</th>\n",
       "      <th>cabin</th>\n",
       "      <th>embarked</th>\n",
       "      <th>title</th>\n",
       "    </tr>\n",
       "  </thead>\n",
       "  <tbody>\n",
       "    <tr>\n",
       "      <th>0</th>\n",
       "      <td>1</td>\n",
       "      <td>1</td>\n",
       "      <td>female</td>\n",
       "      <td>29.0000</td>\n",
       "      <td>0</td>\n",
       "      <td>0</td>\n",
       "      <td>211.3375</td>\n",
       "      <td>B5</td>\n",
       "      <td>S</td>\n",
       "      <td>Miss</td>\n",
       "    </tr>\n",
       "    <tr>\n",
       "      <th>1</th>\n",
       "      <td>1</td>\n",
       "      <td>1</td>\n",
       "      <td>male</td>\n",
       "      <td>0.9167</td>\n",
       "      <td>1</td>\n",
       "      <td>2</td>\n",
       "      <td>151.5500</td>\n",
       "      <td>C22</td>\n",
       "      <td>S</td>\n",
       "      <td>Master</td>\n",
       "    </tr>\n",
       "    <tr>\n",
       "      <th>2</th>\n",
       "      <td>1</td>\n",
       "      <td>0</td>\n",
       "      <td>female</td>\n",
       "      <td>2.0000</td>\n",
       "      <td>1</td>\n",
       "      <td>2</td>\n",
       "      <td>151.5500</td>\n",
       "      <td>C22</td>\n",
       "      <td>S</td>\n",
       "      <td>Miss</td>\n",
       "    </tr>\n",
       "    <tr>\n",
       "      <th>3</th>\n",
       "      <td>1</td>\n",
       "      <td>0</td>\n",
       "      <td>male</td>\n",
       "      <td>30.0000</td>\n",
       "      <td>1</td>\n",
       "      <td>2</td>\n",
       "      <td>151.5500</td>\n",
       "      <td>C22</td>\n",
       "      <td>S</td>\n",
       "      <td>Mr</td>\n",
       "    </tr>\n",
       "    <tr>\n",
       "      <th>4</th>\n",
       "      <td>1</td>\n",
       "      <td>0</td>\n",
       "      <td>female</td>\n",
       "      <td>25.0000</td>\n",
       "      <td>1</td>\n",
       "      <td>2</td>\n",
       "      <td>151.5500</td>\n",
       "      <td>C22</td>\n",
       "      <td>S</td>\n",
       "      <td>Mrs</td>\n",
       "    </tr>\n",
       "  </tbody>\n",
       "</table>\n",
       "</div>"
      ],
      "text/plain": [
       "   pclass  survived     sex      age  sibsp  parch      fare cabin embarked  \\\n",
       "0       1         1  female  29.0000      0      0  211.3375    B5        S   \n",
       "1       1         1    male   0.9167      1      2  151.5500   C22        S   \n",
       "2       1         0  female   2.0000      1      2  151.5500   C22        S   \n",
       "3       1         0    male  30.0000      1      2  151.5500   C22        S   \n",
       "4       1         0  female  25.0000      1      2  151.5500   C22        S   \n",
       "\n",
       "    title  \n",
       "0    Miss  \n",
       "1  Master  \n",
       "2    Miss  \n",
       "3      Mr  \n",
       "4     Mrs  "
      ]
     },
     "execution_count": 10,
     "metadata": {},
     "output_type": "execute_result"
    }
   ],
   "source": [
    "\n",
    "# display data\n",
    "data.head()"
   ]
  },
  {
   "cell_type": "code",
   "execution_count": 11,
   "id": "faeb6cfb",
   "metadata": {},
   "outputs": [],
   "source": [
    "# save the data set\n",
    "\n",
    "data.to_csv('titanic.csv', index=False)"
   ]
  },
  {
   "cell_type": "markdown",
   "id": "2ad5aa78",
   "metadata": {},
   "source": [
    "\n",
    "Data Exploration\n",
    "Find numerical and categorical variables"
   ]
  },
  {
   "cell_type": "code",
   "execution_count": 132,
   "id": "bca89a1d",
   "metadata": {},
   "outputs": [],
   "source": [
    "df=pd.read_csv(\"titanic.csv\")"
   ]
  },
  {
   "cell_type": "code",
   "execution_count": 133,
   "id": "2052db44",
   "metadata": {},
   "outputs": [
    {
     "name": "stdout",
     "output_type": "stream",
     "text": [
      "Number of numerical variables: 2\n",
      "Number of categorical variables: 7\n"
     ]
    }
   ],
   "source": [
    "target = df['survived']\n",
    "df.drop('survived',axis=1,inplace=True)\n",
    "\n",
    "vars_cat_cardinality={}\n",
    "vars_num_cardinality={}\n",
    "vars_num=[]\n",
    "vars_cat=[]\n",
    "integerFeatures=[] \n",
    "binaryFeatures=[]\n",
    "\n",
    "features=list(df)\n",
    "\n",
    "for fea in features:\n",
    "    uniqueValues=df[fea].nunique()\n",
    "    if np.dtype(df[fea])==\"float64\":\n",
    "        vars_num.append(fea)\n",
    "        vars_num_cardinality.update({fea:uniqueValues})        \n",
    "    else:\n",
    "        vars_cat.append(fea)\n",
    "        vars_cat_cardinality.update({fea:uniqueValues})\n",
    "    if uniqueValues==2:\n",
    "        binaryFeatures.append(fea)\n",
    "    else:\n",
    "        integerFeatures.append(fea)\n",
    "        \n",
    "\n",
    "print('Number of numerical variables: {}'.format(len(vars_num)))\n",
    "print('Number of categorical variables: {}'.format(len(vars_cat)))      "
   ]
  },
  {
   "cell_type": "markdown",
   "id": "c1cea98e",
   "metadata": {},
   "source": [
    "Find missing values in variables\n",
    "\n"
   ]
  },
  {
   "cell_type": "code",
   "execution_count": 134,
   "id": "5791fc6b",
   "metadata": {},
   "outputs": [
    {
     "name": "stdout",
     "output_type": "stream",
     "text": [
      "age\n",
      "20.091673032849503\n",
      "fare\n",
      "0.07639419404125286\n"
     ]
    }
   ],
   "source": [
    "# first in numerical variables\n",
    "for var in vars_num:\n",
    "    print(var)\n",
    "    print(df[var].isnull().mean()*100)\n",
    "    "
   ]
  },
  {
   "cell_type": "code",
   "execution_count": 135,
   "id": "70329e2a",
   "metadata": {},
   "outputs": [
    {
     "name": "stdout",
     "output_type": "stream",
     "text": [
      "pclass\n",
      "0.0\n",
      "sex\n",
      "0.0\n",
      "sibsp\n",
      "0.0\n",
      "parch\n",
      "0.0\n",
      "cabin\n",
      "77.46371275783041\n",
      "embarked\n",
      "0.15278838808250572\n",
      "title\n",
      "0.0\n"
     ]
    }
   ],
   "source": [
    "# now in categorical variables\n",
    "for var in vars_cat:\n",
    "    print(var)\n",
    "    print(df[var].isnull().mean()*100)\n",
    "    "
   ]
  },
  {
   "cell_type": "markdown",
   "id": "a8f29de8",
   "metadata": {},
   "source": [
    "# Determine cardinality of categorical variables\n"
   ]
  },
  {
   "cell_type": "code",
   "execution_count": 136,
   "id": "08ba8792",
   "metadata": {},
   "outputs": [
    {
     "name": "stdout",
     "output_type": "stream",
     "text": [
      "Cardinality of numerical variables: {'age': 98, 'fare': 281}\n",
      "Cardinality of categorical variables: {'pclass': 3, 'sex': 2, 'sibsp': 7, 'parch': 8, 'cabin': 181, 'embarked': 3, 'title': 5}\n"
     ]
    }
   ],
   "source": [
    "print('Cardinality of numerical variables: {}'.format(vars_num_cardinality))\n",
    "print('Cardinality of categorical variables: {}'.format(vars_cat_cardinality))"
   ]
  },
  {
   "cell_type": "markdown",
   "id": "f17f0e29",
   "metadata": {},
   "source": [
    "Determine the distribution of numerical variables\n",
    " \n",
    "Separate data into train and test\n",
    "Use the code below for reproducibility. Don't change it."
   ]
  },
  {
   "cell_type": "code",
   "execution_count": 137,
   "id": "14e0c9bd",
   "metadata": {},
   "outputs": [],
   "source": [
    "X_train, X_test, y_train, y_test = train_test_split(\n",
    "    df,  # predictors\n",
    "    target,  # target\n",
    "    test_size=0.2,  # percentage of obs in test set\n",
    "    random_state=0)  # seed to ensure reproducibility\n",
    "\n",
    "\n",
    "\n",
    " "
   ]
  },
  {
   "cell_type": "code",
   "execution_count": 138,
   "id": "15e50cc9",
   "metadata": {},
   "outputs": [
    {
     "data": {
      "text/plain": [
       "((1047, 9), (262, 9))"
      ]
     },
     "execution_count": 138,
     "metadata": {},
     "output_type": "execute_result"
    }
   ],
   "source": [
    "X_train.shape, X_test.shape"
   ]
  },
  {
   "cell_type": "markdown",
   "id": "687d85d5",
   "metadata": {},
   "source": [
    "# Feature Engineering\n",
    "Extract only the letter (and drop the number) from the variable Cabin"
   ]
  },
  {
   "cell_type": "code",
   "execution_count": 139,
   "id": "5e78b1cb",
   "metadata": {},
   "outputs": [],
   "source": [
    "#first, imputing the Nan values with 0\n",
    "df['cabin'].fillna('0', inplace=True)"
   ]
  },
  {
   "cell_type": "code",
   "execution_count": 140,
   "id": "e009254c",
   "metadata": {},
   "outputs": [],
   "source": [
    "df['CabinType'] = df['cabin'].str.slice(0,1)\n",
    "df.drop('cabin',axis=1)\n",
    "vars_cat.append(\"CabinType\")"
   ]
  },
  {
   "cell_type": "markdown",
   "id": "2aabe610",
   "metadata": {},
   "source": [
    "# Fill in Missing data in numerical variables:\n",
    "Add a binary missing indicator\n",
    "Fill NA in original variable with the median"
   ]
  },
  {
   "cell_type": "code",
   "execution_count": 141,
   "id": "4f0ac435",
   "metadata": {},
   "outputs": [],
   "source": [
    "for num in vars_num:\n",
    "    df[num].fillna(df[num].median(), inplace=True)"
   ]
  },
  {
   "cell_type": "markdown",
   "id": "2dd4c1a3",
   "metadata": {},
   "source": [
    "# Fill in Missing data in categorical variables:\n",
    "\n",
    " \n",
    "Replace Missing data in categorical variables with the string Missing"
   ]
  },
  {
   "cell_type": "code",
   "execution_count": 142,
   "id": "188935d5",
   "metadata": {},
   "outputs": [],
   "source": [
    "for cat in vars_cat:\n",
    "    df[cat].fillna(\"Missing\", inplace=True)\n",
    "    \n",
    "    "
   ]
  },
  {
   "cell_type": "markdown",
   "id": "c03a504a",
   "metadata": {},
   "source": [
    "Remove rare labels in categorical variables\n",
    "remove labels present in less than 5 % of the passengers"
   ]
  },
  {
   "cell_type": "code",
   "execution_count": 143,
   "id": "29aebb4a",
   "metadata": {},
   "outputs": [],
   "source": [
    "totalRows=len(df)\n",
    "for fea in vars_cat:\n",
    "    valuePercent=df[fea].value_counts()*100/totalRows\n",
    "    df.loc[df[fea].isin(valuePercent[valuePercent < 5].index), fea] = 'RareValues'\n",
    "    "
   ]
  },
  {
   "cell_type": "code",
   "execution_count": 144,
   "id": "90c4f53e",
   "metadata": {},
   "outputs": [
    {
     "name": "stdout",
     "output_type": "stream",
     "text": [
      "3    54.163484\n",
      "1    24.675325\n",
      "2    21.161192\n",
      "Name: pclass, dtype: float64\n",
      "male      64.400306\n",
      "female    35.599694\n",
      "Name: sex, dtype: float64\n",
      "28.0000    22.536287\n",
      "24.0000     3.590527\n",
      "22.0000     3.284950\n",
      "21.0000     3.132162\n",
      "30.0000     3.055768\n",
      "             ...    \n",
      "0.3333      0.076394\n",
      "22.5000     0.076394\n",
      "70.5000     0.076394\n",
      "0.6667      0.076394\n",
      "26.5000     0.076394\n",
      "Name: age, Length: 98, dtype: float64\n",
      "0             68.067227\n",
      "1             24.369748\n",
      "RareValues     7.563025\n",
      "Name: sibsp, dtype: float64\n",
      "0             76.546982\n",
      "1             12.987013\n",
      "2              8.632544\n",
      "RareValues     1.833461\n",
      "Name: parch, dtype: float64\n",
      "8.0500     4.583652\n",
      "13.0000    4.507257\n",
      "7.7500     4.201681\n",
      "26.0000    3.819710\n",
      "7.8958     3.743316\n",
      "             ...   \n",
      "15.0500    0.076394\n",
      "9.6875     0.076394\n",
      "15.5792    0.076394\n",
      "12.0000    0.076394\n",
      "7.8750     0.076394\n",
      "Name: fare, Length: 281, dtype: float64\n",
      "0             77.463713\n",
      "RareValues    22.536287\n",
      "Name: cabin, dtype: float64\n",
      "S             69.824293\n",
      "C             20.626432\n",
      "Q              9.396486\n",
      "RareValues     0.152788\n",
      "Name: embarked, dtype: float64\n",
      "Mr            57.906799\n",
      "Miss          19.709702\n",
      "Mrs           15.355233\n",
      "RareValues     7.028266\n",
      "Name: title, dtype: float64\n"
     ]
    }
   ],
   "source": [
    "for fea in features:\n",
    "    print(df[fea].value_counts()*100/totalRows)"
   ]
  },
  {
   "cell_type": "markdown",
   "id": "f205a87b",
   "metadata": {},
   "source": [
    "\n",
    "Perform one hot encoding of categorical variables into k-1 binary variables\n",
    "k-1, means that if the variable contains 9 different categories, we create 8 different binary variables\n",
    "Remember to drop the original categorical variable (the one with the strings) after the encoding\n",
    " "
   ]
  },
  {
   "cell_type": "code",
   "execution_count": 145,
   "id": "008b0982",
   "metadata": {
    "scrolled": true
   },
   "outputs": [
    {
     "name": "stderr",
     "output_type": "stream",
     "text": [
      "C:\\Users\\darsh\\anaconda3\\lib\\site-packages\\pandas\\core\\algorithms.py:798: FutureWarning: In a future version, the Index constructor will not infer numeric dtypes when passed object-dtype sequences (matching Series behavior)\n",
      "  uniques = Index(uniques)\n"
     ]
    }
   ],
   "source": [
    "dfE = pd.get_dummies(df, columns=vars_cat)\n"
   ]
  },
  {
   "cell_type": "markdown",
   "id": "529b54fd",
   "metadata": {},
   "source": [
    "# Scale the variables\n",
    "Use the standard scaler from Scikit-learn"
   ]
  },
  {
   "cell_type": "code",
   "execution_count": 146,
   "id": "f26f0a3f",
   "metadata": {},
   "outputs": [],
   "source": [
    "# define which columns to transform and which to leave unchanged\n",
    "ct = ColumnTransformer([('scale', StandardScaler(), vars_num)], remainder='passthrough')\n",
    "\n",
    "# apply the transformation to the DataFrame\n",
    "dfS = ct.fit_transform(dfE)\n",
    "\n",
    "# convert the transformed array back to a DataFrame\n",
    "dfS = pd.DataFrame(dfS, columns=list(dfE))\n",
    "\n"
   ]
  },
  {
   "cell_type": "code",
   "execution_count": 147,
   "id": "2886e0a4",
   "metadata": {},
   "outputs": [
    {
     "data": {
      "text/plain": [
       "['age',\n",
       " 'fare',\n",
       " 'pclass_1',\n",
       " 'pclass_2',\n",
       " 'pclass_3',\n",
       " 'sex_female',\n",
       " 'sex_male',\n",
       " 'sibsp_0',\n",
       " 'sibsp_1',\n",
       " 'sibsp_RareValues',\n",
       " 'parch_0',\n",
       " 'parch_1',\n",
       " 'parch_2',\n",
       " 'parch_RareValues',\n",
       " 'cabin_0',\n",
       " 'cabin_RareValues',\n",
       " 'embarked_C',\n",
       " 'embarked_Q',\n",
       " 'embarked_RareValues',\n",
       " 'embarked_S',\n",
       " 'title_Miss',\n",
       " 'title_Mr',\n",
       " 'title_Mrs',\n",
       " 'title_RareValues',\n",
       " 'CabinType_0',\n",
       " 'CabinType_C',\n",
       " 'CabinType_RareValues']"
      ]
     },
     "execution_count": 147,
     "metadata": {},
     "output_type": "execute_result"
    }
   ],
   "source": [
    "list(dfS)"
   ]
  },
  {
   "cell_type": "markdown",
   "id": "8bbfcbba",
   "metadata": {},
   "source": [
    "Train the Logistic Regression model\n",
    "Set the regularization parameter to 0.0005\n",
    "Set the seed to 0"
   ]
  },
  {
   "cell_type": "code",
   "execution_count": 148,
   "id": "354cc7a6",
   "metadata": {},
   "outputs": [],
   "source": [
    "X_train, X_test, y_train, y_test = train_test_split(\n",
    "    dfS,  # predictors\n",
    "    target,  # target\n",
    "    test_size=0.2,  # percentage of obs in test set\n",
    "    random_state=0)  # seed to ensure reproducibility\n",
    "\n",
    "\n",
    "\n",
    " "
   ]
  },
  {
   "cell_type": "code",
   "execution_count": 149,
   "id": "86283169",
   "metadata": {},
   "outputs": [
    {
     "data": {
      "text/html": [
       "<div>\n",
       "<style scoped>\n",
       "    .dataframe tbody tr th:only-of-type {\n",
       "        vertical-align: middle;\n",
       "    }\n",
       "\n",
       "    .dataframe tbody tr th {\n",
       "        vertical-align: top;\n",
       "    }\n",
       "\n",
       "    .dataframe thead th {\n",
       "        text-align: right;\n",
       "    }\n",
       "</style>\n",
       "<table border=\"1\" class=\"dataframe\">\n",
       "  <thead>\n",
       "    <tr style=\"text-align: right;\">\n",
       "      <th></th>\n",
       "      <th>age</th>\n",
       "      <th>fare</th>\n",
       "      <th>pclass_1</th>\n",
       "      <th>pclass_2</th>\n",
       "      <th>pclass_3</th>\n",
       "      <th>sex_female</th>\n",
       "      <th>sex_male</th>\n",
       "      <th>sibsp_0</th>\n",
       "      <th>sibsp_1</th>\n",
       "      <th>sibsp_RareValues</th>\n",
       "      <th>...</th>\n",
       "      <th>embarked_Q</th>\n",
       "      <th>embarked_RareValues</th>\n",
       "      <th>embarked_S</th>\n",
       "      <th>title_Miss</th>\n",
       "      <th>title_Mr</th>\n",
       "      <th>title_Mrs</th>\n",
       "      <th>title_RareValues</th>\n",
       "      <th>CabinType_0</th>\n",
       "      <th>CabinType_C</th>\n",
       "      <th>CabinType_RareValues</th>\n",
       "    </tr>\n",
       "  </thead>\n",
       "  <tbody>\n",
       "    <tr>\n",
       "      <th>0</th>\n",
       "      <td>-0.039005</td>\n",
       "      <td>3.442584</td>\n",
       "      <td>1.0</td>\n",
       "      <td>0.0</td>\n",
       "      <td>0.0</td>\n",
       "      <td>1.0</td>\n",
       "      <td>0.0</td>\n",
       "      <td>1.0</td>\n",
       "      <td>0.0</td>\n",
       "      <td>0.0</td>\n",
       "      <td>...</td>\n",
       "      <td>0.0</td>\n",
       "      <td>0.0</td>\n",
       "      <td>1.0</td>\n",
       "      <td>1.0</td>\n",
       "      <td>0.0</td>\n",
       "      <td>0.0</td>\n",
       "      <td>0.0</td>\n",
       "      <td>0.0</td>\n",
       "      <td>0.0</td>\n",
       "      <td>1.0</td>\n",
       "    </tr>\n",
       "    <tr>\n",
       "      <th>1</th>\n",
       "      <td>-2.215952</td>\n",
       "      <td>2.286639</td>\n",
       "      <td>1.0</td>\n",
       "      <td>0.0</td>\n",
       "      <td>0.0</td>\n",
       "      <td>0.0</td>\n",
       "      <td>1.0</td>\n",
       "      <td>0.0</td>\n",
       "      <td>1.0</td>\n",
       "      <td>0.0</td>\n",
       "      <td>...</td>\n",
       "      <td>0.0</td>\n",
       "      <td>0.0</td>\n",
       "      <td>1.0</td>\n",
       "      <td>0.0</td>\n",
       "      <td>0.0</td>\n",
       "      <td>0.0</td>\n",
       "      <td>1.0</td>\n",
       "      <td>0.0</td>\n",
       "      <td>1.0</td>\n",
       "      <td>0.0</td>\n",
       "    </tr>\n",
       "    <tr>\n",
       "      <th>2</th>\n",
       "      <td>-2.131977</td>\n",
       "      <td>2.286639</td>\n",
       "      <td>1.0</td>\n",
       "      <td>0.0</td>\n",
       "      <td>0.0</td>\n",
       "      <td>1.0</td>\n",
       "      <td>0.0</td>\n",
       "      <td>0.0</td>\n",
       "      <td>1.0</td>\n",
       "      <td>0.0</td>\n",
       "      <td>...</td>\n",
       "      <td>0.0</td>\n",
       "      <td>0.0</td>\n",
       "      <td>1.0</td>\n",
       "      <td>1.0</td>\n",
       "      <td>0.0</td>\n",
       "      <td>0.0</td>\n",
       "      <td>0.0</td>\n",
       "      <td>0.0</td>\n",
       "      <td>1.0</td>\n",
       "      <td>0.0</td>\n",
       "    </tr>\n",
       "    <tr>\n",
       "      <th>3</th>\n",
       "      <td>0.038512</td>\n",
       "      <td>2.286639</td>\n",
       "      <td>1.0</td>\n",
       "      <td>0.0</td>\n",
       "      <td>0.0</td>\n",
       "      <td>0.0</td>\n",
       "      <td>1.0</td>\n",
       "      <td>0.0</td>\n",
       "      <td>1.0</td>\n",
       "      <td>0.0</td>\n",
       "      <td>...</td>\n",
       "      <td>0.0</td>\n",
       "      <td>0.0</td>\n",
       "      <td>1.0</td>\n",
       "      <td>0.0</td>\n",
       "      <td>1.0</td>\n",
       "      <td>0.0</td>\n",
       "      <td>0.0</td>\n",
       "      <td>0.0</td>\n",
       "      <td>1.0</td>\n",
       "      <td>0.0</td>\n",
       "    </tr>\n",
       "    <tr>\n",
       "      <th>4</th>\n",
       "      <td>-0.349075</td>\n",
       "      <td>2.286639</td>\n",
       "      <td>1.0</td>\n",
       "      <td>0.0</td>\n",
       "      <td>0.0</td>\n",
       "      <td>1.0</td>\n",
       "      <td>0.0</td>\n",
       "      <td>0.0</td>\n",
       "      <td>1.0</td>\n",
       "      <td>0.0</td>\n",
       "      <td>...</td>\n",
       "      <td>0.0</td>\n",
       "      <td>0.0</td>\n",
       "      <td>1.0</td>\n",
       "      <td>0.0</td>\n",
       "      <td>0.0</td>\n",
       "      <td>1.0</td>\n",
       "      <td>0.0</td>\n",
       "      <td>0.0</td>\n",
       "      <td>1.0</td>\n",
       "      <td>0.0</td>\n",
       "    </tr>\n",
       "    <tr>\n",
       "      <th>...</th>\n",
       "      <td>...</td>\n",
       "      <td>...</td>\n",
       "      <td>...</td>\n",
       "      <td>...</td>\n",
       "      <td>...</td>\n",
       "      <td>...</td>\n",
       "      <td>...</td>\n",
       "      <td>...</td>\n",
       "      <td>...</td>\n",
       "      <td>...</td>\n",
       "      <td>...</td>\n",
       "      <td>...</td>\n",
       "      <td>...</td>\n",
       "      <td>...</td>\n",
       "      <td>...</td>\n",
       "      <td>...</td>\n",
       "      <td>...</td>\n",
       "      <td>...</td>\n",
       "      <td>...</td>\n",
       "      <td>...</td>\n",
       "      <td>...</td>\n",
       "    </tr>\n",
       "    <tr>\n",
       "      <th>1304</th>\n",
       "      <td>-1.163009</td>\n",
       "      <td>-0.364003</td>\n",
       "      <td>0.0</td>\n",
       "      <td>0.0</td>\n",
       "      <td>1.0</td>\n",
       "      <td>1.0</td>\n",
       "      <td>0.0</td>\n",
       "      <td>0.0</td>\n",
       "      <td>1.0</td>\n",
       "      <td>0.0</td>\n",
       "      <td>...</td>\n",
       "      <td>0.0</td>\n",
       "      <td>0.0</td>\n",
       "      <td>0.0</td>\n",
       "      <td>1.0</td>\n",
       "      <td>0.0</td>\n",
       "      <td>0.0</td>\n",
       "      <td>0.0</td>\n",
       "      <td>1.0</td>\n",
       "      <td>0.0</td>\n",
       "      <td>0.0</td>\n",
       "    </tr>\n",
       "    <tr>\n",
       "      <th>1305</th>\n",
       "      <td>-0.116523</td>\n",
       "      <td>-0.364003</td>\n",
       "      <td>0.0</td>\n",
       "      <td>0.0</td>\n",
       "      <td>1.0</td>\n",
       "      <td>1.0</td>\n",
       "      <td>0.0</td>\n",
       "      <td>0.0</td>\n",
       "      <td>1.0</td>\n",
       "      <td>0.0</td>\n",
       "      <td>...</td>\n",
       "      <td>0.0</td>\n",
       "      <td>0.0</td>\n",
       "      <td>0.0</td>\n",
       "      <td>1.0</td>\n",
       "      <td>0.0</td>\n",
       "      <td>0.0</td>\n",
       "      <td>0.0</td>\n",
       "      <td>1.0</td>\n",
       "      <td>0.0</td>\n",
       "      <td>0.0</td>\n",
       "    </tr>\n",
       "    <tr>\n",
       "      <th>1306</th>\n",
       "      <td>-0.232799</td>\n",
       "      <td>-0.503774</td>\n",
       "      <td>0.0</td>\n",
       "      <td>0.0</td>\n",
       "      <td>1.0</td>\n",
       "      <td>0.0</td>\n",
       "      <td>1.0</td>\n",
       "      <td>1.0</td>\n",
       "      <td>0.0</td>\n",
       "      <td>0.0</td>\n",
       "      <td>...</td>\n",
       "      <td>0.0</td>\n",
       "      <td>0.0</td>\n",
       "      <td>0.0</td>\n",
       "      <td>0.0</td>\n",
       "      <td>1.0</td>\n",
       "      <td>0.0</td>\n",
       "      <td>0.0</td>\n",
       "      <td>1.0</td>\n",
       "      <td>0.0</td>\n",
       "      <td>0.0</td>\n",
       "    </tr>\n",
       "    <tr>\n",
       "      <th>1307</th>\n",
       "      <td>-0.194040</td>\n",
       "      <td>-0.503774</td>\n",
       "      <td>0.0</td>\n",
       "      <td>0.0</td>\n",
       "      <td>1.0</td>\n",
       "      <td>0.0</td>\n",
       "      <td>1.0</td>\n",
       "      <td>1.0</td>\n",
       "      <td>0.0</td>\n",
       "      <td>0.0</td>\n",
       "      <td>...</td>\n",
       "      <td>0.0</td>\n",
       "      <td>0.0</td>\n",
       "      <td>0.0</td>\n",
       "      <td>0.0</td>\n",
       "      <td>1.0</td>\n",
       "      <td>0.0</td>\n",
       "      <td>0.0</td>\n",
       "      <td>1.0</td>\n",
       "      <td>0.0</td>\n",
       "      <td>0.0</td>\n",
       "    </tr>\n",
       "    <tr>\n",
       "      <th>1308</th>\n",
       "      <td>-0.039005</td>\n",
       "      <td>-0.491207</td>\n",
       "      <td>0.0</td>\n",
       "      <td>0.0</td>\n",
       "      <td>1.0</td>\n",
       "      <td>0.0</td>\n",
       "      <td>1.0</td>\n",
       "      <td>1.0</td>\n",
       "      <td>0.0</td>\n",
       "      <td>0.0</td>\n",
       "      <td>...</td>\n",
       "      <td>0.0</td>\n",
       "      <td>0.0</td>\n",
       "      <td>1.0</td>\n",
       "      <td>0.0</td>\n",
       "      <td>1.0</td>\n",
       "      <td>0.0</td>\n",
       "      <td>0.0</td>\n",
       "      <td>1.0</td>\n",
       "      <td>0.0</td>\n",
       "      <td>0.0</td>\n",
       "    </tr>\n",
       "  </tbody>\n",
       "</table>\n",
       "<p>1309 rows × 27 columns</p>\n",
       "</div>"
      ],
      "text/plain": [
       "           age      fare  pclass_1  pclass_2  pclass_3  sex_female  sex_male  \\\n",
       "0    -0.039005  3.442584       1.0       0.0       0.0         1.0       0.0   \n",
       "1    -2.215952  2.286639       1.0       0.0       0.0         0.0       1.0   \n",
       "2    -2.131977  2.286639       1.0       0.0       0.0         1.0       0.0   \n",
       "3     0.038512  2.286639       1.0       0.0       0.0         0.0       1.0   \n",
       "4    -0.349075  2.286639       1.0       0.0       0.0         1.0       0.0   \n",
       "...        ...       ...       ...       ...       ...         ...       ...   \n",
       "1304 -1.163009 -0.364003       0.0       0.0       1.0         1.0       0.0   \n",
       "1305 -0.116523 -0.364003       0.0       0.0       1.0         1.0       0.0   \n",
       "1306 -0.232799 -0.503774       0.0       0.0       1.0         0.0       1.0   \n",
       "1307 -0.194040 -0.503774       0.0       0.0       1.0         0.0       1.0   \n",
       "1308 -0.039005 -0.491207       0.0       0.0       1.0         0.0       1.0   \n",
       "\n",
       "      sibsp_0  sibsp_1  sibsp_RareValues  ...  embarked_Q  \\\n",
       "0         1.0      0.0               0.0  ...         0.0   \n",
       "1         0.0      1.0               0.0  ...         0.0   \n",
       "2         0.0      1.0               0.0  ...         0.0   \n",
       "3         0.0      1.0               0.0  ...         0.0   \n",
       "4         0.0      1.0               0.0  ...         0.0   \n",
       "...       ...      ...               ...  ...         ...   \n",
       "1304      0.0      1.0               0.0  ...         0.0   \n",
       "1305      0.0      1.0               0.0  ...         0.0   \n",
       "1306      1.0      0.0               0.0  ...         0.0   \n",
       "1307      1.0      0.0               0.0  ...         0.0   \n",
       "1308      1.0      0.0               0.0  ...         0.0   \n",
       "\n",
       "      embarked_RareValues  embarked_S  title_Miss  title_Mr  title_Mrs  \\\n",
       "0                     0.0         1.0         1.0       0.0        0.0   \n",
       "1                     0.0         1.0         0.0       0.0        0.0   \n",
       "2                     0.0         1.0         1.0       0.0        0.0   \n",
       "3                     0.0         1.0         0.0       1.0        0.0   \n",
       "4                     0.0         1.0         0.0       0.0        1.0   \n",
       "...                   ...         ...         ...       ...        ...   \n",
       "1304                  0.0         0.0         1.0       0.0        0.0   \n",
       "1305                  0.0         0.0         1.0       0.0        0.0   \n",
       "1306                  0.0         0.0         0.0       1.0        0.0   \n",
       "1307                  0.0         0.0         0.0       1.0        0.0   \n",
       "1308                  0.0         1.0         0.0       1.0        0.0   \n",
       "\n",
       "      title_RareValues  CabinType_0  CabinType_C  CabinType_RareValues  \n",
       "0                  0.0          0.0          0.0                   1.0  \n",
       "1                  1.0          0.0          1.0                   0.0  \n",
       "2                  0.0          0.0          1.0                   0.0  \n",
       "3                  0.0          0.0          1.0                   0.0  \n",
       "4                  0.0          0.0          1.0                   0.0  \n",
       "...                ...          ...          ...                   ...  \n",
       "1304               0.0          1.0          0.0                   0.0  \n",
       "1305               0.0          1.0          0.0                   0.0  \n",
       "1306               0.0          1.0          0.0                   0.0  \n",
       "1307               0.0          1.0          0.0                   0.0  \n",
       "1308               0.0          1.0          0.0                   0.0  \n",
       "\n",
       "[1309 rows x 27 columns]"
      ]
     },
     "execution_count": 149,
     "metadata": {},
     "output_type": "execute_result"
    }
   ],
   "source": [
    "dfS"
   ]
  },
  {
   "cell_type": "code",
   "execution_count": null,
   "id": "5cca2c57",
   "metadata": {},
   "outputs": [],
   "source": []
  },
  {
   "cell_type": "code",
   "execution_count": 150,
   "id": "1040262f",
   "metadata": {},
   "outputs": [
    {
     "data": {
      "text/plain": [
       "LogisticRegression(C=2000.0, random_state=0)"
      ]
     },
     "execution_count": 150,
     "metadata": {},
     "output_type": "execute_result"
    }
   ],
   "source": [
    "# Set the seed\n",
    "np.random.seed(0)\n",
    "\n",
    "# Initialize the logistic regression model\n",
    "logreg = LogisticRegression(penalty='l2', C=1/0.0005, random_state=0)\n",
    "\n",
    "# Fit the model to your data\n",
    "logreg.fit(X_train, y_train)\n"
   ]
  },
  {
   "cell_type": "markdown",
   "id": "367d6649",
   "metadata": {},
   "source": [
    "# Make predictions and evaluate model performance"
   ]
  },
  {
   "cell_type": "code",
   "execution_count": 151,
   "id": "ea25f0e2",
   "metadata": {},
   "outputs": [],
   "source": [
    "# Make predictions on new data\n",
    "y_pred = logreg.predict(X_test)\n"
   ]
  },
  {
   "cell_type": "markdown",
   "id": "ae4f5859",
   "metadata": {},
   "source": [
    "Determine:\n",
    "\n",
    "## roc-auc\n",
    "\n"
   ]
  },
  {
   "cell_type": "code",
   "execution_count": 156,
   "id": "579a0f49",
   "metadata": {},
   "outputs": [
    {
     "name": "stdout",
     "output_type": "stream",
     "text": [
      "The auc_roc score of the model is : 0.8584259259259259\n"
     ]
    }
   ],
   "source": [
    "# Compute the AUC-ROC score\n",
    "y_prob = logreg.predict_proba(X_test)[:,1]\n",
    "auc_roc = roc_auc_score(y_test, y_prob)\n",
    "print(\"The auc_roc score of the model is :\",auc_roc)"
   ]
  },
  {
   "cell_type": "markdown",
   "id": "9253cd42",
   "metadata": {},
   "source": [
    "## accuracy\n",
    "Important, remember that to determine the accuracy, you need the outcome 0, 1, referring to survived or not. But to determine the roc-auc you need the probability of survival."
   ]
  },
  {
   "cell_type": "code",
   "execution_count": 157,
   "id": "88bc4806",
   "metadata": {},
   "outputs": [
    {
     "name": "stdout",
     "output_type": "stream",
     "text": [
      "The accuracy of the model is : 0.8053435114503816\n"
     ]
    }
   ],
   "source": [
    "# Compute the accuracy of the model\n",
    "accuracy = accuracy_score(y_test, y_pred)\n",
    "print(\"The accuracy of the model is :\",accuracy)"
   ]
  },
  {
   "cell_type": "markdown",
   "id": "f0e0a54b",
   "metadata": {},
   "source": [
    "\n",
    " \n",
    "That's it! Well done\n",
    "\n",
    "Keep this code safe, as we will use this notebook later on, to build production code, in our next assignement!!"
   ]
  },
  {
   "cell_type": "code",
   "execution_count": null,
   "id": "7bba450a",
   "metadata": {},
   "outputs": [],
   "source": []
  }
 ],
 "metadata": {
  "kernelspec": {
   "display_name": "Python 3 (ipykernel)",
   "language": "python",
   "name": "python3"
  },
  "language_info": {
   "codemirror_mode": {
    "name": "ipython",
    "version": 3
   },
   "file_extension": ".py",
   "mimetype": "text/x-python",
   "name": "python",
   "nbconvert_exporter": "python",
   "pygments_lexer": "ipython3",
   "version": "3.9.12"
  }
 },
 "nbformat": 4,
 "nbformat_minor": 5
}
